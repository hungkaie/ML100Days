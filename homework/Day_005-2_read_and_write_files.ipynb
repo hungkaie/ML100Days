{
 "cells": [
  {
   "cell_type": "markdown",
   "metadata": {},
   "source": [
    "## 使用內建功能讀取 txt 檔"
   ]
  },
  {
   "cell_type": "markdown",
   "metadata": {},
   "source": [
    "# [教學目標]\n",
    "- 示範 Pandas 各種 讀取 / 寫入 檔案的方式"
   ]
  },
  {
   "cell_type": "markdown",
   "metadata": {},
   "source": [
    "# [範例重點]\n",
    "- 讀取 txt 檔 (In[2], Out[2])\n",
    "- 存取 json 檔 (In[4], In[5], In[7], In[8])  # column 主 key, row 副 key\n",
    "- 存取 npy 檔 (numpy專用檔, In[10], In[11])   # 讀取快速\n",
    "- 讀取 Pickle 檔 (In[12], In[13])"
   ]
  },
  {
   "cell_type": "code",
   "execution_count": 16,
   "metadata": {},
   "outputs": [],
   "source": [
    "import time"
   ]
  },
  {
   "cell_type": "code",
   "execution_count": 1,
   "metadata": {
    "scrolled": true
   },
   "outputs": [
    {
     "name": "stdout",
     "output_type": "stream",
     "text": [
      "['id,sex,age,score\\n', '001,F,20,77\\n', '002,F,25,90\\n', '003,M,22,80\\n', '004,F,30,66\\n', '005,M,40,60\\n', '006,M,29,87']\n"
     ]
    }
   ],
   "source": [
    "with open(\"data/example.txt\", 'r') as f:\n",
    "    data = f.readlines()  # Return a list of lines from the stream. `hint` can be specified to control the number of lines read\n",
    "print(data)"
   ]
  },
  {
   "cell_type": "markdown",
   "metadata": {},
   "source": [
    "## 將 txt 轉成 pandas dataframe"
   ]
  },
  {
   "cell_type": "code",
   "execution_count": 20,
   "metadata": {},
   "outputs": [
    {
     "name": "stdout",
     "output_type": "stream",
     "text": [
      "need time: 0.0050122737884521484\n"
     ]
    },
    {
     "data": {
      "text/plain": [
       "[['id', 'sex', 'age', 'score'],\n",
       " ['001', 'F', '20', '77'],\n",
       " ['002', 'F', '25', '90'],\n",
       " ['003', 'M', '22', '80'],\n",
       " ['004', 'F', '30', '66'],\n",
       " ['005', 'M', '40', '60'],\n",
       " ['006', 'M', '29', '87']]"
      ]
     },
     "execution_count": 20,
     "metadata": {},
     "output_type": "execute_result"
    }
   ],
   "source": [
    "import pandas as pd\n",
    "\n",
    "data = []\n",
    "t1 = time.time()\n",
    "with open(\"data/example.txt\", 'r') as f:\n",
    "    for line in f:\n",
    "        line = line.replace('\\n', '').split(',') # 將每句最後的 /n 取代成空值後，再以逗號斷句\n",
    "        data.append(line)\n",
    "t2 = time.time()\n",
    "print('need time:', np.longdouble(t2-t1))\n",
    "data"
   ]
  },
  {
   "cell_type": "code",
   "execution_count": 4,
   "metadata": {},
   "outputs": [],
   "source": [
    "?pd.DataFrame"
   ]
  },
  {
   "cell_type": "code",
   "execution_count": 5,
   "metadata": {},
   "outputs": [
    {
     "data": {
      "text/html": [
       "<div>\n",
       "<style scoped>\n",
       "    .dataframe tbody tr th:only-of-type {\n",
       "        vertical-align: middle;\n",
       "    }\n",
       "\n",
       "    .dataframe tbody tr th {\n",
       "        vertical-align: top;\n",
       "    }\n",
       "\n",
       "    .dataframe thead th {\n",
       "        text-align: right;\n",
       "    }\n",
       "</style>\n",
       "<table border=\"1\" class=\"dataframe\">\n",
       "  <thead>\n",
       "    <tr style=\"text-align: right;\">\n",
       "      <th></th>\n",
       "      <th>id</th>\n",
       "      <th>sex</th>\n",
       "      <th>age</th>\n",
       "      <th>score</th>\n",
       "    </tr>\n",
       "  </thead>\n",
       "  <tbody>\n",
       "    <tr>\n",
       "      <td>0</td>\n",
       "      <td>001</td>\n",
       "      <td>F</td>\n",
       "      <td>20</td>\n",
       "      <td>77</td>\n",
       "    </tr>\n",
       "    <tr>\n",
       "      <td>1</td>\n",
       "      <td>002</td>\n",
       "      <td>F</td>\n",
       "      <td>25</td>\n",
       "      <td>90</td>\n",
       "    </tr>\n",
       "    <tr>\n",
       "      <td>2</td>\n",
       "      <td>003</td>\n",
       "      <td>M</td>\n",
       "      <td>22</td>\n",
       "      <td>80</td>\n",
       "    </tr>\n",
       "    <tr>\n",
       "      <td>3</td>\n",
       "      <td>004</td>\n",
       "      <td>F</td>\n",
       "      <td>30</td>\n",
       "      <td>66</td>\n",
       "    </tr>\n",
       "    <tr>\n",
       "      <td>4</td>\n",
       "      <td>005</td>\n",
       "      <td>M</td>\n",
       "      <td>40</td>\n",
       "      <td>60</td>\n",
       "    </tr>\n",
       "    <tr>\n",
       "      <td>5</td>\n",
       "      <td>006</td>\n",
       "      <td>M</td>\n",
       "      <td>29</td>\n",
       "      <td>87</td>\n",
       "    </tr>\n",
       "  </tbody>\n",
       "</table>\n",
       "</div>"
      ],
      "text/plain": [
       "    id sex age score\n",
       "0  001   F  20    77\n",
       "1  002   F  25    90\n",
       "2  003   M  22    80\n",
       "3  004   F  30    66\n",
       "4  005   M  40    60\n",
       "5  006   M  29    87"
      ]
     },
     "execution_count": 5,
     "metadata": {},
     "output_type": "execute_result"
    }
   ],
   "source": [
    "# df = pd.DataFrame(data[1:])\n",
    "# df.columns = data[0]\n",
    "df = pd.DataFrame(data = data[1:], columns = data[0])\n",
    "df"
   ]
  },
  {
   "cell_type": "markdown",
   "metadata": {},
   "source": [
    "## 將資料轉成 json 檔後輸出\n",
    "將 json 讀回來後，是否與我們原本想要存入的方式一樣? (以 id 為 key)"
   ]
  },
  {
   "cell_type": "code",
   "execution_count": 6,
   "metadata": {},
   "outputs": [],
   "source": [
    "import json\n",
    "df.to_json('data/example01.json')"
   ]
  },
  {
   "cell_type": "code",
   "execution_count": 7,
   "metadata": {},
   "outputs": [
    {
     "data": {
      "text/plain": [
       "{'id': {'0': '001',\n",
       "  '1': '002',\n",
       "  '2': '003',\n",
       "  '3': '004',\n",
       "  '4': '005',\n",
       "  '5': '006'},\n",
       " 'sex': {'0': 'F', '1': 'F', '2': 'M', '3': 'F', '4': 'M', '5': 'M'},\n",
       " 'age': {'0': '20', '1': '25', '2': '22', '3': '30', '4': '40', '5': '29'},\n",
       " 'score': {'0': '77', '1': '90', '2': '80', '3': '66', '4': '60', '5': '87'}}"
      ]
     },
     "execution_count": 7,
     "metadata": {},
     "output_type": "execute_result"
    }
   ],
   "source": [
    "# 上面的存入方式，會將 column name 做為主要的 key, row name 做為次要的 key\n",
    "with open('data/example01.json', 'r') as f:\n",
    "    j1 = json.load(f)\n",
    "j1"
   ]
  },
  {
   "cell_type": "code",
   "execution_count": 8,
   "metadata": {},
   "outputs": [],
   "source": [
    "?pd.DataFrame.set_index"
   ]
  },
  {
   "cell_type": "code",
   "execution_count": 9,
   "metadata": {},
   "outputs": [
    {
     "data": {
      "text/html": [
       "<div>\n",
       "<style scoped>\n",
       "    .dataframe tbody tr th:only-of-type {\n",
       "        vertical-align: middle;\n",
       "    }\n",
       "\n",
       "    .dataframe tbody tr th {\n",
       "        vertical-align: top;\n",
       "    }\n",
       "\n",
       "    .dataframe thead th {\n",
       "        text-align: right;\n",
       "    }\n",
       "</style>\n",
       "<table border=\"1\" class=\"dataframe\">\n",
       "  <thead>\n",
       "    <tr style=\"text-align: right;\">\n",
       "      <th></th>\n",
       "      <th>sex</th>\n",
       "      <th>age</th>\n",
       "      <th>score</th>\n",
       "    </tr>\n",
       "    <tr>\n",
       "      <th>id</th>\n",
       "      <th></th>\n",
       "      <th></th>\n",
       "      <th></th>\n",
       "    </tr>\n",
       "  </thead>\n",
       "  <tbody>\n",
       "    <tr>\n",
       "      <td>001</td>\n",
       "      <td>F</td>\n",
       "      <td>20</td>\n",
       "      <td>77</td>\n",
       "    </tr>\n",
       "    <tr>\n",
       "      <td>002</td>\n",
       "      <td>F</td>\n",
       "      <td>25</td>\n",
       "      <td>90</td>\n",
       "    </tr>\n",
       "    <tr>\n",
       "      <td>003</td>\n",
       "      <td>M</td>\n",
       "      <td>22</td>\n",
       "      <td>80</td>\n",
       "    </tr>\n",
       "    <tr>\n",
       "      <td>004</td>\n",
       "      <td>F</td>\n",
       "      <td>30</td>\n",
       "      <td>66</td>\n",
       "    </tr>\n",
       "    <tr>\n",
       "      <td>005</td>\n",
       "      <td>M</td>\n",
       "      <td>40</td>\n",
       "      <td>60</td>\n",
       "    </tr>\n",
       "    <tr>\n",
       "      <td>006</td>\n",
       "      <td>M</td>\n",
       "      <td>29</td>\n",
       "      <td>87</td>\n",
       "    </tr>\n",
       "  </tbody>\n",
       "</table>\n",
       "</div>"
      ],
      "text/plain": [
       "    sex age score\n",
       "id               \n",
       "001   F  20    77\n",
       "002   F  25    90\n",
       "003   M  22    80\n",
       "004   F  30    66\n",
       "005   M  40    60\n",
       "006   M  29    87"
      ]
     },
     "execution_count": 9,
     "metadata": {},
     "output_type": "execute_result"
    }
   ],
   "source": [
    "df.set_index('id', inplace=True)\n",
    "df"
   ]
  },
  {
   "cell_type": "code",
   "execution_count": 10,
   "metadata": {},
   "outputs": [],
   "source": [
    "?pd.DataFrame.to_json"
   ]
  },
  {
   "cell_type": "code",
   "execution_count": 11,
   "metadata": {},
   "outputs": [
    {
     "data": {
      "text/html": [
       "<div>\n",
       "<style scoped>\n",
       "    .dataframe tbody tr th:only-of-type {\n",
       "        vertical-align: middle;\n",
       "    }\n",
       "\n",
       "    .dataframe tbody tr th {\n",
       "        vertical-align: top;\n",
       "    }\n",
       "\n",
       "    .dataframe thead th {\n",
       "        text-align: right;\n",
       "    }\n",
       "</style>\n",
       "<table border=\"1\" class=\"dataframe\">\n",
       "  <thead>\n",
       "    <tr style=\"text-align: right;\">\n",
       "      <th></th>\n",
       "      <th>sex</th>\n",
       "      <th>age</th>\n",
       "      <th>score</th>\n",
       "    </tr>\n",
       "    <tr>\n",
       "      <th>id</th>\n",
       "      <th></th>\n",
       "      <th></th>\n",
       "      <th></th>\n",
       "    </tr>\n",
       "  </thead>\n",
       "  <tbody>\n",
       "    <tr>\n",
       "      <td>001</td>\n",
       "      <td>F</td>\n",
       "      <td>20</td>\n",
       "      <td>77</td>\n",
       "    </tr>\n",
       "    <tr>\n",
       "      <td>002</td>\n",
       "      <td>F</td>\n",
       "      <td>25</td>\n",
       "      <td>90</td>\n",
       "    </tr>\n",
       "    <tr>\n",
       "      <td>003</td>\n",
       "      <td>M</td>\n",
       "      <td>22</td>\n",
       "      <td>80</td>\n",
       "    </tr>\n",
       "    <tr>\n",
       "      <td>004</td>\n",
       "      <td>F</td>\n",
       "      <td>30</td>\n",
       "      <td>66</td>\n",
       "    </tr>\n",
       "    <tr>\n",
       "      <td>005</td>\n",
       "      <td>M</td>\n",
       "      <td>40</td>\n",
       "      <td>60</td>\n",
       "    </tr>\n",
       "    <tr>\n",
       "      <td>006</td>\n",
       "      <td>M</td>\n",
       "      <td>29</td>\n",
       "      <td>87</td>\n",
       "    </tr>\n",
       "  </tbody>\n",
       "</table>\n",
       "</div>"
      ],
      "text/plain": [
       "    sex age score\n",
       "id               \n",
       "001   F  20    77\n",
       "002   F  25    90\n",
       "003   M  22    80\n",
       "004   F  30    66\n",
       "005   M  40    60\n",
       "006   M  29    87"
      ]
     },
     "execution_count": 11,
     "metadata": {},
     "output_type": "execute_result"
    }
   ],
   "source": [
    "df.to_json('data/example02.json', orient='index')\n",
    "df"
   ]
  },
  {
   "cell_type": "code",
   "execution_count": 12,
   "metadata": {},
   "outputs": [
    {
     "data": {
      "text/plain": [
       "{'001': {'sex': 'F', 'age': '20', 'score': '77'},\n",
       " '002': {'sex': 'F', 'age': '25', 'score': '90'},\n",
       " '003': {'sex': 'M', 'age': '22', 'score': '80'},\n",
       " '004': {'sex': 'F', 'age': '30', 'score': '66'},\n",
       " '005': {'sex': 'M', 'age': '40', 'score': '60'},\n",
       " '006': {'sex': 'M', 'age': '29', 'score': '87'}}"
      ]
     },
     "execution_count": 12,
     "metadata": {},
     "output_type": "execute_result"
    }
   ],
   "source": [
    "with open('data/example02.json', 'r') as f:\n",
    "    j2 = json.load(f)\n",
    "j2"
   ]
  },
  {
   "cell_type": "markdown",
   "metadata": {},
   "source": [
    "## 將檔案存為 npy 檔\n",
    "一個專門儲存 numpy array 的檔案格式\n",
    "使用 npy 通常可以讓你更快讀取資料喔!  \n",
    "[建議閱讀](https://towardsdatascience.com/why-you-should-start-using-npy-file-more-often-df2a13cc0161)"
   ]
  },
  {
   "cell_type": "code",
   "execution_count": 13,
   "metadata": {},
   "outputs": [
    {
     "data": {
      "text/plain": [
       "array([['001', 'F', '20', '77'],\n",
       "       ['002', 'F', '25', '90'],\n",
       "       ['003', 'M', '22', '80'],\n",
       "       ['004', 'F', '30', '66'],\n",
       "       ['005', 'M', '40', '60'],\n",
       "       ['006', 'M', '29', '87']], dtype='<U3')"
      ]
     },
     "execution_count": 13,
     "metadata": {},
     "output_type": "execute_result"
    }
   ],
   "source": [
    "import numpy as np\n",
    "# 將 data 的數值部分轉成 numpy array\n",
    "array = np.array(data[1:])\n",
    "array"
   ]
  },
  {
   "cell_type": "code",
   "execution_count": 14,
   "metadata": {},
   "outputs": [],
   "source": [
    "np.save(arr=array, file='data/example.npy')"
   ]
  },
  {
   "cell_type": "code",
   "execution_count": 19,
   "metadata": {},
   "outputs": [
    {
     "name": "stdout",
     "output_type": "stream",
     "text": [
      "need time: 0.0009963512420654297\n"
     ]
    },
    {
     "data": {
      "text/plain": [
       "array([['001', 'F', '20', '77'],\n",
       "       ['002', 'F', '25', '90'],\n",
       "       ['003', 'M', '22', '80'],\n",
       "       ['004', 'F', '30', '66'],\n",
       "       ['005', 'M', '40', '60'],\n",
       "       ['006', 'M', '29', '87']], dtype='<U3')"
      ]
     },
     "execution_count": 19,
     "metadata": {},
     "output_type": "execute_result"
    }
   ],
   "source": [
    "t1 = time.time()\n",
    "array_back = np.load('data/example.npy')\n",
    "t2 = time.time()\n",
    "print('need time:', np.longdouble(t2-t1))\n",
    "array_back"
   ]
  },
  {
   "cell_type": "markdown",
   "metadata": {},
   "source": [
    "## Pickle\n",
    "存成 pickle 檔  \n",
    "什麼都包，什麼都不奇怪的 [Pickle](https://docs.python.org/3/library/pickle.html)  \n",
    "比如說 [CIFAR10](https://www.cs.toronto.edu/~kriz/cifar.html) 的資料集就是用 pickle 包的喔!  \n",
    "[Understanding Python Pickling with example](https://www.geeksforgeeks.org/understanding-python-pickling-example/)"
   ]
  },
  {
   "cell_type": "code",
   "execution_count": 26,
   "metadata": {},
   "outputs": [
    {
     "name": "stdout",
     "output_type": "stream",
     "text": [
      "None\n"
     ]
    }
   ],
   "source": [
    "import pickle\n",
    "with open('data/example.pkl', 'wb') as f:  # w: writing; b: binary mode\n",
    "    pickle.dump(file=f, obj=data)  # 序列化"
   ]
  },
  {
   "cell_type": "code",
   "execution_count": 27,
   "metadata": {},
   "outputs": [],
   "source": [
    "?open"
   ]
  },
  {
   "cell_type": "code",
   "execution_count": 28,
   "metadata": {},
   "outputs": [],
   "source": [
    "?pickle.dump"
   ]
  },
  {
   "cell_type": "code",
   "execution_count": 16,
   "metadata": {},
   "outputs": [
    {
     "data": {
      "text/plain": [
       "[['id', 'sex', 'age', 'score'],\n",
       " ['001', 'F', '20', '77'],\n",
       " ['002', 'F', '25', '90'],\n",
       " ['003', 'M', '22', '80'],\n",
       " ['004', 'F', '30', '66'],\n",
       " ['005', 'M', '40', '60'],\n",
       " ['006', 'M', '29', '87']]"
      ]
     },
     "execution_count": 16,
     "metadata": {},
     "output_type": "execute_result"
    }
   ],
   "source": [
    "with open('data/example.pkl', 'rb') as f: # r: reading; b: binary mode\n",
    "    pkl_data = pickle.load(f)   # 輸入資料\n",
    "pkl_data"
   ]
  },
  {
   "cell_type": "code",
   "execution_count": null,
   "metadata": {
    "collapsed": true
   },
   "outputs": [],
   "source": []
  }
 ],
 "metadata": {
  "anaconda-cloud": {},
  "kernelspec": {
   "display_name": "Python 3",
   "language": "python",
   "name": "python3"
  },
  "language_info": {
   "codemirror_mode": {
    "name": "ipython",
    "version": 3
   },
   "file_extension": ".py",
   "mimetype": "text/x-python",
   "name": "python",
   "nbconvert_exporter": "python",
   "pygments_lexer": "ipython3",
   "version": "3.7.4"
  }
 },
 "nbformat": 4,
 "nbformat_minor": 1
}

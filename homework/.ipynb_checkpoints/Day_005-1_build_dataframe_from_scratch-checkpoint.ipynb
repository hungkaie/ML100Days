{
 "cells": [
  {
   "cell_type": "markdown",
   "metadata": {},
   "source": [
    "# [教學目標]\n",
    "- Pandas 處理最常用的資料格式, 我們稱為 DataFrame, 試著使用不同的方式新建一個 DataFrame 吧\n",
    "- 練習看看 DataFrame 可以對資料做什麼操作? (groupby 的使用)"
   ]
  },
  {
   "cell_type": "markdown",
   "metadata": {},
   "source": [
    "# [範例重點]\n",
    "- 新建 DataFrame 方法一 (In[2], In[3])\n",
    "- 新建 DataFrame 方法二 (In[4], In[5])\n",
    "- 資料操作 : groupby (In[6], Out[6])"
   ]
  },
  {
   "cell_type": "code",
   "execution_count": 13,
   "metadata": {},
   "outputs": [],
   "source": [
    "import pandas as pd\n",
    "import numpy as np"
   ]
  },
  {
   "cell_type": "markdown",
   "metadata": {
    "collapsed": true
   },
   "source": [
    "### 方法一"
   ]
  },
  {
   "cell_type": "code",
   "execution_count": 2,
   "metadata": {},
   "outputs": [],
   "source": [
    "data = {'weekday': ['Sun', 'Sun', 'Mon', 'Mon'],\n",
    "        'city': ['Austin', 'Dallas', 'Austin', 'Dallas'],\n",
    "        'visitor': [139, 237, 326, 456]}"
   ]
  },
  {
   "cell_type": "code",
   "execution_count": 3,
   "metadata": {},
   "outputs": [
    {
     "data": {
      "text/plain": [
       "{'weekday': ['Sun', 'Sun', 'Mon', 'Mon'],\n",
       " 'city': ['Austin', 'Dallas', 'Austin', 'Dallas'],\n",
       " 'visitor': [139, 237, 326, 456]}"
      ]
     },
     "execution_count": 3,
     "metadata": {},
     "output_type": "execute_result"
    }
   ],
   "source": [
    "data"
   ]
  },
  {
   "cell_type": "code",
   "execution_count": 5,
   "metadata": {},
   "outputs": [
    {
     "data": {
      "text/plain": [
       "dict"
      ]
     },
     "execution_count": 5,
     "metadata": {},
     "output_type": "execute_result"
    }
   ],
   "source": [
    "type(data)"
   ]
  },
  {
   "cell_type": "code",
   "execution_count": 6,
   "metadata": {},
   "outputs": [
    {
     "name": "stdout",
     "output_type": "stream",
     "text": [
      "  weekday    city  visitor\n",
      "0     Sun  Austin      139\n",
      "1     Sun  Dallas      237\n",
      "2     Mon  Austin      326\n",
      "3     Mon  Dallas      456\n"
     ]
    }
   ],
   "source": [
    "visitors_1 = pd.DataFrame(data)\n",
    "print(visitors_1)"
   ]
  },
  {
   "cell_type": "markdown",
   "metadata": {},
   "source": [
    "### 方法二"
   ]
  },
  {
   "cell_type": "code",
   "execution_count": 9,
   "metadata": {},
   "outputs": [
    {
     "data": {
      "text/plain": [
       "[('city', ['Austin', 'Dallas', 'Austin', 'Dallas']),\n",
       " ('weekday', ['Sun', 'Sun', 'Mon', 'Mon']),\n",
       " ('visitor', [139, 237, 326, 456])]"
      ]
     },
     "execution_count": 9,
     "metadata": {},
     "output_type": "execute_result"
    }
   ],
   "source": [
    "cities = ['Austin', 'Dallas', 'Austin', 'Dallas']\n",
    "weekdays = ['Sun', 'Sun', 'Mon', 'Mon']\n",
    "visitors = [139, 237, 326, 456]\n",
    "\n",
    "list_labels = ['city', 'weekday', 'visitor']\n",
    "list_cols = [cities, weekdays, visitors]\n",
    "\n",
    "zipped = list(zip(list_labels, list_cols))\n",
    "zipped"
   ]
  },
  {
   "cell_type": "code",
   "execution_count": 10,
   "metadata": {},
   "outputs": [
    {
     "name": "stdout",
     "output_type": "stream",
     "text": [
      "     city weekday  visitor\n",
      "0  Austin     Sun      139\n",
      "1  Dallas     Sun      237\n",
      "2  Austin     Mon      326\n",
      "3  Dallas     Mon      456\n"
     ]
    }
   ],
   "source": [
    "visitors_2 = pd.DataFrame(dict(zipped))\n",
    "print(visitors_2)"
   ]
  },
  {
   "cell_type": "markdown",
   "metadata": {},
   "source": [
    "## 一個簡單例子\n",
    "假設你想知道如果利用 pandas 計算上述資料中，每個 weekday 的平均 visitor 數量，\n",
    "\n",
    "通過 google 你找到了 https://stackoverflow.com/questions/30482071/how-to-calculate-mean-values-grouped-on-another-column-in-pandas\n",
    "\n",
    "想要測試的時候就可以用 visitors_1 這個只有 4 筆資料的資料集來測試程式碼"
   ]
  },
  {
   "cell_type": "code",
   "execution_count": 11,
   "metadata": {},
   "outputs": [
    {
     "data": {
      "text/plain": [
       "weekday\n",
       "Mon    391\n",
       "Sun    188\n",
       "Name: visitor, dtype: int64"
      ]
     },
     "execution_count": 11,
     "metadata": {},
     "output_type": "execute_result"
    }
   ],
   "source": [
    "visitors_1.groupby(by=\"weekday\")['visitor'].mean()"
   ]
  },
  {
   "cell_type": "markdown",
   "metadata": {},
   "source": [
    "## 練習時間\n",
    "在小量的資料上，我們用眼睛就可以看得出來程式碼是否有跑出我們理想中的結果\n",
    "\n",
    "請嘗試想像一個你需要的資料結構 (裡面的值可以是隨機的)，然後用上述的方法把它變成 pandas DataFrame\n",
    "\n",
    "#### Ex: 想像一個 dataframe 有兩個欄位，一個是國家，一個是人口，求人口數最多的國家\n",
    "\n",
    "### Hints: [隨機產生數值](https://blog.csdn.net/christianashannon/article/details/78867204)"
   ]
  },
  {
   "cell_type": "code",
   "execution_count": 44,
   "metadata": {},
   "outputs": [
    {
     "name": "stdout",
     "output_type": "stream",
     "text": [
      "   country  population\n",
      "0        a       51824\n",
      "1        b       71832\n",
      "2        c       50259\n",
      "3        d       54739\n",
      "4        e       28523\n",
      "5        f       77197\n",
      "6        g       30039\n",
      "7        h       30637\n",
      "8        i       89008\n",
      "9        j       84648\n",
      "10       k       48665\n"
     ]
    },
    {
     "data": {
      "text/html": [
       "<div>\n",
       "<style scoped>\n",
       "    .dataframe tbody tr th:only-of-type {\n",
       "        vertical-align: middle;\n",
       "    }\n",
       "\n",
       "    .dataframe tbody tr th {\n",
       "        vertical-align: top;\n",
       "    }\n",
       "\n",
       "    .dataframe thead th {\n",
       "        text-align: right;\n",
       "    }\n",
       "</style>\n",
       "<table border=\"1\" class=\"dataframe\">\n",
       "  <thead>\n",
       "    <tr style=\"text-align: right;\">\n",
       "      <th></th>\n",
       "      <th>country</th>\n",
       "      <th>population</th>\n",
       "    </tr>\n",
       "  </thead>\n",
       "  <tbody>\n",
       "    <tr>\n",
       "      <td>8</td>\n",
       "      <td>i</td>\n",
       "      <td>89008</td>\n",
       "    </tr>\n",
       "  </tbody>\n",
       "</table>\n",
       "</div>"
      ],
      "text/plain": [
       "  country  population\n",
       "8       i       89008"
      ]
     },
     "execution_count": 44,
     "metadata": {},
     "output_type": "execute_result"
    }
   ],
   "source": [
    "np.random.seed(2020)\n",
    "data = {\n",
    "    'country': ['a', 'b', 'c', 'd', 'e', 'f', 'g', 'h', 'i', 'j', 'k'],\n",
    "    'population': np.random.randint(low=10**4, high=10**5, size=11)\n",
    "}\n",
    "data_frame = pd.DataFrame(data)\n",
    "new_data = data_frame.sort_values(by = ['population'], ascending = False)\n",
    "print(data_frame)\n",
    "new_data.head(1)"
   ]
  },
  {
   "cell_type": "code",
   "execution_count": 45,
   "metadata": {},
   "outputs": [
    {
     "name": "stdout",
     "output_type": "stream",
     "text": [
      "   country  population\n",
      "0        a       51824\n",
      "1        b       71832\n",
      "2        c       50259\n",
      "3        d       54739\n",
      "4        e       28523\n",
      "5        f       77197\n",
      "6        g       30039\n",
      "7        h       30637\n",
      "8        i       89008\n",
      "9        j       84648\n",
      "10       k       48665\n"
     ]
    },
    {
     "data": {
      "text/html": [
       "<div>\n",
       "<style scoped>\n",
       "    .dataframe tbody tr th:only-of-type {\n",
       "        vertical-align: middle;\n",
       "    }\n",
       "\n",
       "    .dataframe tbody tr th {\n",
       "        vertical-align: top;\n",
       "    }\n",
       "\n",
       "    .dataframe thead th {\n",
       "        text-align: right;\n",
       "    }\n",
       "</style>\n",
       "<table border=\"1\" class=\"dataframe\">\n",
       "  <thead>\n",
       "    <tr style=\"text-align: right;\">\n",
       "      <th></th>\n",
       "      <th>country</th>\n",
       "      <th>population</th>\n",
       "    </tr>\n",
       "  </thead>\n",
       "  <tbody>\n",
       "    <tr>\n",
       "      <td>8</td>\n",
       "      <td>i</td>\n",
       "      <td>89008</td>\n",
       "    </tr>\n",
       "  </tbody>\n",
       "</table>\n",
       "</div>"
      ],
      "text/plain": [
       "  country  population\n",
       "8       i       89008"
      ]
     },
     "execution_count": 45,
     "metadata": {},
     "output_type": "execute_result"
    }
   ],
   "source": [
    "np.random.seed(2020)\n",
    "countries = ['a', 'b', 'c', 'd', 'e', 'f', 'g', 'h', 'i', 'j', 'k']\n",
    "populations = np.random.randint(low=10**4, high=10**5, size=11)\n",
    "\n",
    "list_labels = ['country', 'population']\n",
    "list_columns = [countries, populations]\n",
    "\n",
    "data_frame = pd.DataFrame(dict(zip( list_labels, list_columns )))\n",
    "new_data = data_frame.sort_values(by = ['population'], ascending = False)\n",
    "print(data_frame)\n",
    "new_data.head(1)"
   ]
  },
  {
   "cell_type": "code",
   "execution_count": 38,
   "metadata": {},
   "outputs": [],
   "source": [
    "?pd.DataFrame.sort_values"
   ]
  },
  {
   "cell_type": "code",
   "execution_count": null,
   "metadata": {},
   "outputs": [],
   "source": []
  }
 ],
 "metadata": {
  "kernelspec": {
   "display_name": "Python 3",
   "language": "python",
   "name": "python3"
  },
  "language_info": {
   "codemirror_mode": {
    "name": "ipython",
    "version": 3
   },
   "file_extension": ".py",
   "mimetype": "text/x-python",
   "name": "python",
   "nbconvert_exporter": "python",
   "pygments_lexer": "ipython3",
   "version": "3.7.4"
  }
 },
 "nbformat": 4,
 "nbformat_minor": 2
}
